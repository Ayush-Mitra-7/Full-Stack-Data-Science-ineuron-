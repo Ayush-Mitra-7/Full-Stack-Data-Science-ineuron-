{
 "cells": [
  {
   "cell_type": "markdown",
   "metadata": {},
   "source": [
    "<h2>Question1. Why are functions advantageous to have in your programs?</h2>"
   ]
  },
  {
   "cell_type": "markdown",
   "metadata": {},
   "source": [
    "Advantages of functions are:-<br>\n",
    "i.code reusability<br>\n",
    "ii.reducing duplicate code<br>\n",
    "iii.decomposing complex problems into simpler pieces<br>\n",
    "iv.improving clarity of the code<br>\n",
    "v.information hiding<br>"
   ]
  },
  {
   "cell_type": "markdown",
   "metadata": {},
   "source": [
    "<h2>Question2. When does the code in a function run: when it's specified or when it's called?</h2>"
   ]
  },
  {
   "cell_type": "markdown",
   "metadata": {},
   "source": [
    "when a function is called in the code it leaves the current section of the code and read the first line of the function and after executing the function it again returns to the part of the code<br>\n",
    "example:-<br>\n",
    "def func():<br>\n",
    "--->print(\"Morning\",end=\" \")<br>\n",
    "<br>\n",
    "print(\"Good\",end=\" \")<br>\n",
    "func()<br>\n",
    "print(\"Ineuron\",end=\" \")<br>\n",
    "<br>\n",
    "The output will be <b>Good Morning Ineuron</b>"
   ]
  },
  {
   "cell_type": "markdown",
   "metadata": {},
   "source": [
    "<h2>Question3. What statement creates a function?</h2>"
   ]
  },
  {
   "cell_type": "markdown",
   "metadata": {},
   "source": [
    "the statement that creats a function is <b>def function_name():</b><br>\n",
    "example:-<br>\n",
    "def count1_5():<br>\n",
    "--->i=1<br>\n",
    "--->print(i)<br>\n",
    "--->i+=1<br>"
   ]
  },
  {
   "cell_type": "markdown",
   "metadata": {},
   "source": [
    "<h2>Question4. What is the difference between a function and a function call?</h2>"
   ]
  },
  {
   "cell_type": "markdown",
   "metadata": {},
   "source": [
    "function is the defination of a part of a code that can be called multiple times within a code to calculate or perform certain task<br>\n",
    "whereas function call is when you call a previously defined function in a code to do a perticular task<br>\n",
    "example:-<br>\n",
    "def count1_5():<---function defination<br>\n",
    "--->i=1<br>\n",
    "--->print(i)<br>\n",
    "--->i+=1<br>\n",
    "<br>\n",
    "count1_5()<---function call<br>"
   ]
  },
  {
   "cell_type": "markdown",
   "metadata": {},
   "source": [
    "<h2>Question5. How many global scopes are there in a Python program? How many local scopes?</h2>"
   ]
  },
  {
   "cell_type": "markdown",
   "metadata": {},
   "source": [
    "There's only one global Python scope per program execution. This scope remains in existence until the program terminates and all its names are forgotten. Otherwise, the next time you were to run the program, the names would remember their values from the previous run.<br>\n",
    "A variable created inside a function belongs to the local scope of that function, and can only be used inside that function.<br>\n",
    "example:-<br>\n",
    "i.A variable created inside a function is available inside that function:<br>\n",
    "def myfunc():<br>\n",
    "---> x = 300<br>\n",
    "--->print(x)<br>\n",
    "<br>\n",
    "myfunc()<br>\n",
    "<br>\n",
    "ii.A variable created inside a function is not available inside that function:<br>\n",
    "def myfunc():<br>\n",
    "def myinnerfunc():<br>\n",
    "--->x=200<br>\n",
    "--->myinnerfunc()<br>\n",
    "--->print(x)<br>\n",
    "\n",
    "myfunc()\n",
    "\n"
   ]
  },
  {
   "cell_type": "markdown",
   "metadata": {},
   "source": [
    "<h2>Question6. What happens to variables in a local scope when the function call returns?</h2>"
   ]
  },
  {
   "cell_type": "markdown",
   "metadata": {},
   "source": [
    " When the execution of the function terminates (returns), the local variables are destroyed, as the cursor moves back to the place where the function was called so there is no meaning in keeping the local variable as when the function will be called again the varible will be created again,so keeping that previous local variable will be a waste of memory"
   ]
  },
  {
   "cell_type": "markdown",
   "metadata": {},
   "source": [
    "<h2>Question7. What is the concept of a return value? Is it possible to have a return value in an expression?</h2>"
   ]
  },
  {
   "cell_type": "markdown",
   "metadata": {},
   "source": [
    "<b>return</b> is a keyword that makes us come out of a function explicitly with some kind of value which may be needed to be used after a the function has done its job<br>\n",
    "return can be used in an expression<br>\n",
    "example:-<br>\n",
    "def mean(sample):<br>\n",
    "--->return sum(sample) / len(sample)<br>\n",
    "<br>\n",
    "mean([1, 2, 3, 4])<br>\n",
    "output:-2.5"
   ]
  },
  {
   "cell_type": "markdown",
   "metadata": {},
   "source": [
    "<h2>Question8. If a function does not have a return statement, what is the return value of a call to that function?</h2>"
   ]
  },
  {
   "cell_type": "markdown",
   "metadata": {},
   "source": [
    "if a function does not have a return statement the end of the function's indentation acts as the return value for that function<br>\n",
    "example:-<br>\n",
    "def func():<br>\n",
    "--->x=100<br>\n",
    "--->print(x)<br>\n",
    "<br>\n",
    "func()<br>\n",
    "here in this function after print(x) has been executed the function will end as the function indentation has ended and the cursor will return to the place function has been called<br>\n"
   ]
  },
  {
   "cell_type": "markdown",
   "metadata": {},
   "source": [
    "<h2>Question9. How do you make a function variable refer to the global variable?</h2>"
   ]
  },
  {
   "cell_type": "markdown",
   "metadata": {},
   "source": [
    "If you want to refer to a global variable in a function we can use the global keyword to declare which variables are global."
   ]
  },
  {
   "cell_type": "markdown",
   "metadata": {},
   "source": [
    "<h2>Question10. What is the data type of None?</h2>"
   ]
  },
  {
   "cell_type": "markdown",
   "metadata": {},
   "source": [
    "The None keyword is used to define a null value, or no value at all. None is not the same as 0, False, or an empty string. None is a data type of its own (NoneType) and only None can be None."
   ]
  },
  {
   "cell_type": "markdown",
   "metadata": {},
   "source": [
    "<h2>Question11. What does the sentence import areallyourpetsnamederic do?</h2>"
   ]
  },
  {
   "cell_type": "markdown",
   "metadata": {},
   "source": [
    "<b>import areallyourpetsnamederic </b>includes all the functions variables and class present inside the module areallyourpetsnamederic in the program in which it has been imported "
   ]
  },
  {
   "cell_type": "markdown",
   "metadata": {},
   "source": [
    "<h2>Question12. If you had a bacon() feature in a spam module, what would you call it after importing spam?</h2>"
   ]
  },
  {
   "cell_type": "markdown",
   "metadata": {},
   "source": [
    "import spam<br>\n",
    "spam.bacon()"
   ]
  },
  {
   "cell_type": "markdown",
   "metadata": {},
   "source": [
    "<h2>Question13. What can you do to save a programme from crashing if it encounters an error?</h2>"
   ]
  },
  {
   "cell_type": "markdown",
   "metadata": {},
   "source": [
    "try-catch block will help encounter error more gracefully and will give a error message rather than crashing the code"
   ]
  },
  {
   "cell_type": "markdown",
   "metadata": {},
   "source": [
    "<h2>Question14. What is the purpose of the try clause? What is the purpose of the except clause?</h2>"
   ]
  },
  {
   "cell_type": "markdown",
   "metadata": {},
   "source": [
    "The try block lets you test a block of code for errors. The except block lets you handle the error. The else block lets you execute code when there is no error."
   ]
  }
 ],
 "metadata": {
  "language_info": {
   "name": "python"
  },
  "orig_nbformat": 4
 },
 "nbformat": 4,
 "nbformat_minor": 2
}
