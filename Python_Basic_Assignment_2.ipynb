{
 "cells": [
  {
   "cell_type": "markdown",
   "metadata": {},
   "source": [
    "<h2>Question1.What are the two values of the Boolean data type? How do you write them?</h2>"
   ]
  },
  {
   "cell_type": "markdown",
   "metadata": {},
   "source": [
    "Boolean datatype has two values:-<br>\n",
    "->True<br>\n",
    "->False<br>\n",
    "In python they are keywords and used as a evaluated value for any relational and logical expression<br>\n",
    "example:- (2>1) and (5>3)<br>\n",
    "output:- True<br>\n",
    "The value true in python is internally associated with 1 and false is associated with 0 as in basic level boolean means a base 2 number i.e 0 and  1\n"
   ]
  },
  {
   "cell_type": "markdown",
   "metadata": {},
   "source": [
    "<h2>Question2. What are the three different types of Boolean operators?</h2>"
   ]
  },
  {
   "cell_type": "markdown",
   "metadata": {},
   "source": [
    "Three types of Boolean operators are:-<br>\n",
    "<b><u>i.  and(&&):-</u></b><br>\n",
    "It is a operator which gives true as the output when all parts of the expression is true<br>\n",
    "example(1):- (2>1) and (5>3)<br>\n",
    "output:- True<br>\n",
    "example(2):- (2>1) and (5>10)<br>\n",
    "output:-False<br>\n",
    "=><b>Truth Table</b><br>\n",
    "True and True--->True<br>\n",
    "True and False--->False<br>\n",
    "False and True--->False<br>\n",
    "False and False--->False<br>\n",
    "<b><u>ii.  or(||):-</u></b><br>\n",
    "It is a operator which gives true as the output when either one parts of the expression is true<br>\n",
    "example(1):- (2>1) or (5>3)<br>\n",
    "output:- True<br>\n",
    "example(2):- (2>1) or (5>10)<br>\n",
    "output:-True<br>\n",
    "example(3):- (2>3) or (5>10)<br>\n",
    "output:-False<br>\n",
    "=><b>Truth Table</b><br>\n",
    "True and True--->True<br>\n",
    "True and False--->True<br>\n",
    "False and True--->True<br>\n",
    "False and False--->False<br>\n",
    "<b><u>iii.  not(!):-</u></b><br>\n",
    "It is a operator which gives false when the expression is true and true when the expression is false i.e complimenting the value True and False<br>\n",
    "example(1):- not 2>3<br>\n",
    "output:- True<br>\n",
    "example(2):- not 4>3<br>\n",
    "output:-False<br>\n",
    "=><b>Truth Table</b><br>\n",
    "not True--->False<br>\n",
    "not False--->True<br>"
   ]
  },
  {
   "cell_type": "markdown",
   "metadata": {},
   "source": [
    "<h2>Question3. Make a list of each Boolean operator's truth tables (i.e. every possible combination of Boolean values for the operator and what it evaluate ).</h2>"
   ]
  },
  {
   "cell_type": "markdown",
   "metadata": {},
   "source": [
    "=><b><u>Truth Table For AND operator</u></b><br>\n",
    "True and True--->True<br>\n",
    "True and False--->False<br>\n",
    "False and True--->False<br>\n",
    "False and False--->False<br>\n",
    "=><b><u>Truth Table For OR operator</u></b><br>\n",
    "True and True--->True<br>\n",
    "True and False--->True<br>\n",
    "False and True--->True<br>\n",
    "False and False--->False<br>\n",
    "=><b><u>Truth Table For NOT operator</u></b><br>\n",
    "not True--->False<br>\n",
    "not False--->True<br>"
   ]
  },
  {
   "cell_type": "markdown",
   "metadata": {},
   "source": [
    "<h2>Question4. What are the values of the following expressions?<br>\n",
    "(5 > 4) and (3 == 5)<br>\n",
    "not (5 > 4)<br>\n",
    "(5 > 4) or (3 == 5)<br>\n",
    "not ((5 > 4) or (3 == 5))<br>\n",
    "(True and True) and (True == False)<br>\n",
    "(not False) or (not True)<br>\n",
    "</h2>"
   ]
  },
  {
   "cell_type": "markdown",
   "metadata": {},
   "source": [
    "(5 > 4) and (3 == 5)---->False<br>\n",
    "not (5 > 4)---->False<br>\n",
    "(5 > 4) or (3 == 5)---->True<br>\n",
    "(True and True) and (True == False)---->False<br>\n",
    "(not False) or (not True)---->True"
   ]
  },
  {
   "cell_type": "markdown",
   "metadata": {},
   "source": [
    "<h2>Question5. What are the six comparison operators?</h2>"
   ]
  },
  {
   "cell_type": "markdown",
   "metadata": {},
   "source": [
    "six comparison(relational) operators are:-<br>\n",
    "<b><u>i.  greater than(>):-</u></b><br>\n",
    "This operators are used for checking if some value or expression is greater than another value or expression.It gives True as the value when the comparison is true and False when the comparison is false<br>\n",
    "example:- 3>1<br>\n",
    "output:- True<br>\n",
    "example:- 3>3<br>\n",
    "output:- False<br>\n",
    "<b><u>ii.  greater than or equals to(>=):-</u></b><br>\n",
    "This operators are used for checking if some value or expression is greater than or equals to another value or expression.It gives True as the value when the comparison is true and False when the comparison is false<br>\n",
    "example(1):- 3>=1<br>\n",
    "output:- True<br>\n",
    "example(1):- 3>=3<br>\n",
    "output:- True<br>\n",
    "six comparison(relational) operators are:-<br>\n",
    "<b><u>iii.  less than(<):-</u></b><br>\n",
    "This operators are used for checking if some value or expression is less than another value or expression.It gives True as the value when the comparison is true and False when the comparison is false<br>\n",
    "example:- 3<1<br>\n",
    "output:- False<br>\n",
    "example:- 3<5<br>\n",
    "output:- True<br>\n",
    "<b><u>iv.  less than or equals to(<=):-</u></b><br>\n",
    "This operators are used for checking if some value or expression is less than or equals to another value or expression.It gives True as the value when the comparison is true and False when the comparison is false<br>\n",
    "example:- 3<=1<br>\n",
    "output:- False<br>\n",
    "example:- 3<=3<br>\n",
    "output:- True<br>\n",
    "<b><u>v.  equals to(==):-</u></b><br>\n",
    "This operators are used for checking if some value or expression is equals to another value or expression.It gives True as the value when the comparison is true and False when the comparison is false<br>\n",
    "example:- 3==1<br>\n",
    "output:- False<br>\n",
    "example:- 3==3<br>\n",
    "output:- True<br>\n",
    "<b><u>vi.  not equals to(!=):-</u></b><br>\n",
    "This operators are used for checking if some value or expression is not equals to another value or expression.It gives True as the value when the comparison is true and False when the comparison is false<br>\n",
    "example:- 3!=1<br>\n",
    "output:- True<br>\n",
    "example:- 3!=3<br>\n",
    "output:- False<br>\n"
   ]
  },
  {
   "cell_type": "markdown",
   "metadata": {},
   "source": [
    "<h2>Question6. How do you tell the difference between the equal to and assignment operators?Describe a condition and when you would use one.</h2>"
   ]
  },
  {
   "cell_type": "markdown",
   "metadata": {},
   "source": [
    "The <b>equal to</b>operator is represented in python with double equals to sign<b>(==)</b> where as <b>assignment</b> operator in python is represented by single equas to<b>(=)</b><br>\n",
    "equals to operators are used for checking if some value or expression is less than another value or expression.It gives True as the value when the comparison is true and False when the comparison is false.Where as assignment operator is used to assign a value to a variable <br>\n",
    "example:-3==3<br>\n",
    "output:-True<br>\n",
    "example:-a=4<br>\n",
    "print(a)<br>\n",
    "output:-4<br>"
   ]
  },
  {
   "cell_type": "markdown",
   "metadata": {},
   "source": [
    "<h2>Question7. Identify the three blocks in this code:\n",
    "spam = 0<br>\n",
    "if spam == 10:<br>\n",
    "print('eggs')<br>\n",
    "if spam > 5:<br>\n",
    "print('bacon')<br>\n",
    "else:<br>\n",
    "print('ham')<br>\n",
    "print('spam')<br>\n",
    "print('spam')<br></h2>\n"
   ]
  },
  {
   "cell_type": "markdown",
   "metadata": {},
   "source": [
    "The output will be:-<br>\n",
    "ham<br>\n",
    "spam<br>\n",
    "spam<br>"
   ]
  },
  {
   "cell_type": "markdown",
   "metadata": {},
   "source": [
    "<h2>Question8. Write code that prints Hello if 1 is stored in spam, prints Howdy if 2 is stored in spam, and prints Greetings! if anything else is stored in spam.</h2>"
   ]
  },
  {
   "cell_type": "code",
   "execution_count": 4,
   "metadata": {},
   "outputs": [
    {
     "name": "stdout",
     "output_type": "stream",
     "text": [
      "Hello\n"
     ]
    }
   ],
   "source": [
    "spam=int(input(\"enter the number: \"))\n",
    "if spam==1:\n",
    "    print(\"Hello\")\n",
    "elif spam==2:\n",
    "    print(\"Howdy\")\n",
    "else:\n",
    "    print(\"Greetings\")"
   ]
  },
  {
   "cell_type": "markdown",
   "metadata": {},
   "source": [
    "<h2>Question9.If your programme is stuck in an endless loop, what keys you’ll press?</h2>"
   ]
  },
  {
   "cell_type": "markdown",
   "metadata": {},
   "source": [
    "To stop endless loop we can press <b>Ctrl+C<b>"
   ]
  },
  {
   "cell_type": "markdown",
   "metadata": {},
   "source": [
    "<h2>Question10. How can you tell the difference between break and continue?</h2>"
   ]
  },
  {
   "cell_type": "markdown",
   "metadata": {},
   "source": [
    "The <b>break</b> statement terminates the loop containing it. Control of the program flows to the statement immediately after the body of the loop.If the break statement is inside a nested loop (loop inside another loop), the break statement will terminate the innermost loop."
   ]
  },
  {
   "cell_type": "code",
   "execution_count": 1,
   "metadata": {},
   "outputs": [
    {
     "name": "stdout",
     "output_type": "stream",
     "text": [
      "s\n",
      "t\n",
      "r\n",
      "The end\n"
     ]
    }
   ],
   "source": [
    "# Example of break\n",
    "\n",
    "for val in \"string\":\n",
    "    if val == \"i\":\n",
    "        break\n",
    "    print(val)\n",
    "\n",
    "print(\"The end\")"
   ]
  },
  {
   "cell_type": "markdown",
   "metadata": {},
   "source": [
    "The <b>continue</b> statement is used to skip the rest of the code inside a loop for the current iteration only. Loop does not terminate but continues on with the next iteration.\n"
   ]
  },
  {
   "cell_type": "code",
   "execution_count": 2,
   "metadata": {},
   "outputs": [
    {
     "name": "stdout",
     "output_type": "stream",
     "text": [
      "s\n",
      "t\n",
      "r\n",
      "n\n",
      "g\n",
      "The end\n"
     ]
    }
   ],
   "source": [
    "# Example of continue\n",
    "\n",
    "for val in \"string\":\n",
    "    if val == \"i\":\n",
    "        continue\n",
    "    print(val)\n",
    "\n",
    "print(\"The end\")"
   ]
  },
  {
   "cell_type": "markdown",
   "metadata": {},
   "source": [
    "<h2>Question11. In a for loop, what is the difference between range(10), range(0, 10), and range(0, 10, 1)?</h2>"
   ]
  },
  {
   "cell_type": "markdown",
   "metadata": {},
   "source": [
    "range(10),range(0,10) and range(0,10,1) are the same but written in different way "
   ]
  },
  {
   "cell_type": "code",
   "execution_count": 8,
   "metadata": {},
   "outputs": [
    {
     "name": "stdout",
     "output_type": "stream",
     "text": [
      "0 1 2 3 4 5 6 7 8 9 "
     ]
    }
   ],
   "source": [
    "#example of range(10)\n",
    "for i in range(10):\n",
    "    print(i,end=\" \")"
   ]
  },
  {
   "cell_type": "code",
   "execution_count": 9,
   "metadata": {},
   "outputs": [
    {
     "name": "stdout",
     "output_type": "stream",
     "text": [
      "0 1 2 3 4 5 6 7 8 9 "
     ]
    }
   ],
   "source": [
    "#example of range(0,10)\n",
    "for i in range(0,10):\n",
    "    print(i,end=\" \")"
   ]
  },
  {
   "cell_type": "code",
   "execution_count": 10,
   "metadata": {},
   "outputs": [
    {
     "name": "stdout",
     "output_type": "stream",
     "text": [
      "0 1 2 3 4 5 6 7 8 9 "
     ]
    }
   ],
   "source": [
    "#example of range(0,10.1)\n",
    "for i in range(0,10,1):\n",
    "    print(i,end=\" \")"
   ]
  },
  {
   "cell_type": "markdown",
   "metadata": {},
   "source": [
    "we can see all three are giving the same range as output as range(10) means to start from 0 and stop before 10 where range(0,10) meant starting from 0 and end before 10 and range(0,10,1) means starting from 0 till 10 with the interval of 1.If range(0,10,2) would have been used it would give a range where values have a interval of 2"
   ]
  },
  {
   "cell_type": "code",
   "execution_count": 11,
   "metadata": {},
   "outputs": [
    {
     "name": "stdout",
     "output_type": "stream",
     "text": [
      "0 2 4 6 8 "
     ]
    }
   ],
   "source": [
    "#example of range(0,10.2)\n",
    "for i in range(0,10,2):\n",
    "    print(i,end=\" \")"
   ]
  },
  {
   "cell_type": "markdown",
   "metadata": {},
   "source": [
    "<h2>Question12. Write a short program that prints the numbers 1 to 10 using a for loop. Then write an equivalent program that prints the numbers 1 to 10 using a while loop.</h2>"
   ]
  },
  {
   "cell_type": "code",
   "execution_count": 12,
   "metadata": {},
   "outputs": [
    {
     "name": "stdout",
     "output_type": "stream",
     "text": [
      "1 2 3 4 5 6 7 8 9 10 "
     ]
    }
   ],
   "source": [
    "#for loop for 1 to 10\n",
    "for i in range(1,11):\n",
    "    print(i,end=\" \")"
   ]
  },
  {
   "cell_type": "code",
   "execution_count": 13,
   "metadata": {},
   "outputs": [
    {
     "name": "stdout",
     "output_type": "stream",
     "text": [
      "1 2 3 4 5 6 7 8 9 10 "
     ]
    }
   ],
   "source": [
    "#while loop for 1 to 10\n",
    "i=1\n",
    "while i<=10:\n",
    "        print(i,end=\" \")\n",
    "        i+=1"
   ]
  },
  {
   "cell_type": "markdown",
   "metadata": {},
   "source": [
    "<h2>Question13. If you had a function named bacon() inside a module named spam, how would you call it after importing spam?</h2>"
   ]
  },
  {
   "cell_type": "markdown",
   "metadata": {},
   "source": [
    "import spam<br>\n",
    "spam.bacon()\n"
   ]
  },
  {
   "cell_type": "code",
   "execution_count": null,
   "metadata": {},
   "outputs": [],
   "source": []
  }
 ],
 "metadata": {
  "kernelspec": {
   "display_name": "Python 3.9.6 64-bit",
   "language": "python",
   "name": "python3"
  },
  "language_info": {
   "codemirror_mode": {
    "name": "ipython",
    "version": 3
   },
   "file_extension": ".py",
   "mimetype": "text/x-python",
   "name": "python",
   "nbconvert_exporter": "python",
   "pygments_lexer": "ipython3",
   "version": "3.9.6"
  },
  "orig_nbformat": 4,
  "vscode": {
   "interpreter": {
    "hash": "d26dd86194e83e3a0f0b7b53bc7876e65835825a2894f08a46ba2342766fb885"
   }
  }
 },
 "nbformat": 4,
 "nbformat_minor": 2
}
