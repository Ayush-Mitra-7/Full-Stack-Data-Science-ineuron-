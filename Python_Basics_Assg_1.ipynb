{
 "cells": [
  {
   "cell_type": "markdown",
   "metadata": {},
   "source": [
    "<h2>question 1. In the below elements which of them are values or an expression? eg:- values can be integer or string and expressions will be mathematical operators.\n",
    "* \n",
    "'hello'\n",
    "-87.8\n",
    "- \n",
    "/ \n",
    "+\t\n",
    "6 \n",
    "<h2>\n",
    "\n"
   ]
  },
  {
   "cell_type": "markdown",
   "metadata": {},
   "source": [
    "asterisk(*):- It is an expression as it is a arithmetic operator for multiplication and in a basic level it can be used in 3 diff ways,which are:-"
   ]
  },
  {
   "cell_type": "markdown",
   "metadata": {},
   "source": [
    "<ul>\n",
    "<ls>\n",
    "A.for multiplication:-<br>\n",
    "example:-  >>a=5*2<br>\n",
    "print(a)<br>\n",
    "output:- 10<br>\n",
    "</ls>\n",
    "<ls>\n",
    "B.for exponentiation:-<br>\n",
    "example:- >>a=5**2<br>\n",
    "print(a)<br>\n",
    "output:- 25<br>\n",
    "</ls>\n",
    "<ls>\n",
    "C.for multiplication of list:-<br>\n",
    "example:- >>a=[\"Data Sc\"]*3<br>\n",
    "print(a)<br>\n",
    "output:- [\"Data Sc\",\"Data Sc\",Data Sc\"]<br>\n",
    "</ls>\n",
    "</ul>"
   ]
  },
  {
   "cell_type": "markdown",
   "metadata": {},
   "source": [
    "'hello':- It is a value and its datatype is string as it is a collection of characters and in python a string is represented by double or single cotations('' or \"\")"
   ]
  },
  {
   "cell_type": "markdown",
   "metadata": {},
   "source": [
    "-87.8:- It is a value and its datatype is float which represents real and decimal numbers "
   ]
  },
  {
   "cell_type": "markdown",
   "metadata": {},
   "source": [
    "minus(-):-It is an expression as it is an arithmetic operator for subtraction <br>\n",
    "example:- >>a=10-5<br>\n",
    "print(a)<br>\n",
    "output:- 5"
   ]
  },
  {
   "cell_type": "markdown",
   "metadata": {},
   "source": [
    "divide(/):-It is an expression as it is an arithmetic operator for division,it can be used in two ways which are:-"
   ]
  },
  {
   "cell_type": "markdown",
   "metadata": {},
   "source": [
    "<ul>\n",
    "<ls>\n",
    "A.Float division:<br>\n",
    "example:->>a=5/2<br>\n",
    "print(a)<br>\n",
    "output:- 2.5<br>\n",
    "</ls>\n",
    "<ls>\n",
    "A.integer division:<br>\n",
    "example:->>a=5//2<br>\n",
    "print(a)<br>\n",
    "output:- 2<br>\n",
    "</ls>\n"
   ]
  },
  {
   "cell_type": "markdown",
   "metadata": {},
   "source": [
    "plus(+):-It is an expression as it is an arithmetic operator for summation and concatination of strings<br>\n",
    "example(1):->>a=4+6<br>\n",
    "print(a)<br>\n",
    "output:- 10\n",
    "example(2):->>a='a'+'b'<br>\n",
    "print(a)<br>\n",
    "output:- ab"
   ]
  },
  {
   "cell_type": "markdown",
   "metadata": {},
   "source": [
    "6:- It is a value and its datatype is integer which represents integer numbers"
   ]
  },
  {
   "cell_type": "markdown",
   "metadata": {},
   "source": [
    "<h2>Question2. What is the difference between string and variable?</h2>"
   ]
  },
  {
   "cell_type": "markdown",
   "metadata": {},
   "source": [
    "<b><u>String:-</u></b><br>\n",
    "string is a datatype and it is used to represent collection of characters, python doesnot have a character data type as a character is a string of length of 1 so string is the only alphanumeric datatype in python, it can be used to print prompt message for user iterface and many string manipulation programs<br>\n",
    "string value is stored in a variable which indirectly stores it in the ram while the program is executing<br>\n",
    "example:- a=\"Hello World\"<br>\n",
    "here \"Hello World\" is the string and a is the variable that stores the String in the RAM"
   ]
  },
  {
   "cell_type": "markdown",
   "metadata": {},
   "source": [
    "<b><u>Variable:-</u></b><br>\n",
    "variable is a symbolic name that is a reference or pointer to an object. Once an object is assigned to a variable, you can refer to the object by that name. But the data itself is still contained within the object."
   ]
  },
  {
   "cell_type": "markdown",
   "metadata": {},
   "source": [
    "<h2>Question3. Describe three different data types.</h2>"
   ]
  },
  {
   "cell_type": "markdown",
   "metadata": {},
   "source": [
    "Three different types of data type are:-<br>\n",
    "<b><u>1.Int:-</u></b><br>\n",
    "In Python, integers are zero, positive or negative whole numbers without a fractional part and having unlimited precision, e.g. 0, 100, -10. The followings are valid integer literals in Python.<br>\n",
    "example:->>a=9<br>\n",
    "<b><u>1.float:-</u></b><br>\n",
    "In Python, floating point numbers (float) are positive and negative real numbers with a fractional part denoted by the decimal symbol . or the scientific notation E or e<br>\n",
    "example:-1234.56, 3.142, -1.55, 0.23.<br>\n",
    "<b><u>1.complex number:-</u></b><br>\n",
    "A complex number is a number with real and imaginary components. For example, 5 + 6j is a complex number where 5 is the real component and 6 multiplied by j is an imaginary component.<br>"
   ]
  },
  {
   "cell_type": "markdown",
   "metadata": {},
   "source": [
    "<h2>Question4. What is an expression made up of? What do all expressions do?</h2>"
   ]
  },
  {
   "cell_type": "markdown",
   "metadata": {},
   "source": [
    "An expression is a combination of operators and operands that is interpreted to produce some other value. In any programming language, an expression is evaluated as per the precedence of its operators. So that if there is more than one operator in an expression, their precedence decides which operation will be performed first. We have many different types of expressions in Python. <br>\n",
    "               Expressions are representations of values they are a used to evaluate some equation of coding statements like 3+2*4-5 is an expression and its output is 6 "
   ]
  },
  {
   "cell_type": "markdown",
   "metadata": {},
   "source": [
    "<h2>Question5. This assignment statements, like spam = 10. What is the difference between an expression and a statement?<h2>"
   ]
  },
  {
   "cell_type": "markdown",
   "metadata": {},
   "source": [
    "\n",
    "<b><u>Expression:-</u></b><br>\n",
    "An expression usually refers to a piece of code that can be evaluated to a value, and is composed of variables, operators, function calls, and literals. In most programming languages, common examples of expressions are method calls and mathematical operations.<br>\n",
    "\n",
    "Expressions are generally formulated differently in various programming languages. The basic idea, however, is that an expression will always yield an output; it evaluates to something. Let’s look at some simple examples of expressions:<br>\n",
    "\n",
    "In the example above, the first expression, Rendered by QuickLaTeX.com, will yield the value True when evaluated, while the second expression, Rendered by QuickLaTeX.com, will yield the value 18.<br>\n",
    "<b><u>Statement:-</u></b><br>\n",
    "Conversely, a statement refers to a piece of code that executes a specific instruction or tells the computer to complete a task.  A statement can take the form of assignments, control statements, import statements, loop statements, jump statements, or method calls."
   ]
  },
  {
   "cell_type": "markdown",
   "metadata": {},
   "source": [
    "<h2>Question6. After running the following code, what does the variable bacon contain?<br>\n",
    "bacon = 22<br>\n",
    "bacon + 1<br>\n",
    "</h2>\n"
   ]
  },
  {
   "cell_type": "markdown",
   "metadata": {},
   "source": [
    "The variable bacon will contain 23 value"
   ]
  },
  {
   "cell_type": "markdown",
   "metadata": {},
   "source": [
    "<h2>Question7. What should the values of the following two terms be?\n",
    "'spam' + 'spamspam'\n",
    "'spam' * 3</h2>\n"
   ]
  },
  {
   "cell_type": "markdown",
   "metadata": {},
   "source": [
    "'spam' + 'spamspam':------>'spamspamspam' will be the output\n",
    "\n",
    "'spam' * 3:--------->'spamspamspam' will be the output"
   ]
  },
  {
   "cell_type": "markdown",
   "metadata": {},
   "source": [
    "<h2>Question8. Why is eggs a valid variable name while 100 is invalid?<h2>"
   ]
  },
  {
   "cell_type": "markdown",
   "metadata": {},
   "source": [
    "eggs is a valid name as it is the following all the rules for naming the identifiers in python as it is starting with a characters where as 100 is invalid as the names for identifiers cant be start with numbers"
   ]
  },
  {
   "cell_type": "markdown",
   "metadata": {},
   "source": [
    "<h2>Question9. What three functions can be used to get the integer, floating-point number, or string version of a value?</h2>"
   ]
  },
  {
   "cell_type": "markdown",
   "metadata": {},
   "source": [
    "to get the integer we use the------>int() function<br>\n",
    "example:- >>a='25'<br>\n",
    "print(int(a))<br>\n",
    "output:- 25 <br>\n",
    "to get the float value we use the------->float() function<br>\n",
    "example:- >>a='25.5'<br>\n",
    "print(int(a))<br>\n",
    "output:- 25.5<br>\n",
    "to get the string value we use the-------->str() function<br>\n",
    "example:- >>a=25<br>\n",
    "print(int(a))<br>\n",
    "output:- '25' <br>\n",
    "    "
   ]
  },
  {
   "cell_type": "markdown",
   "metadata": {},
   "source": [
    "<h2>Question10. Why does this expression cause an error? How can you fix it?\n",
    "'I have eaten ' + 99 + ' burritos.'</h2>\n"
   ]
  },
  {
   "cell_type": "markdown",
   "metadata": {},
   "source": [
    "the expression 'I have eaten ' + 99 + ' burritos.' caused the error because 99 is a integer value and others are string value and + operator cannot operate with an expression that is a combination of both int and string it has to be an homogeneous expression(either all int or all string)<br>\n",
    "we can solve this by putting 99 in single or double qoutes like this:<br>\n",
    "'I have eaten ' + '99' + ' burritos.'<br>\n",
    "this will give<b> 'I have eaten 99 burritos.'</b> as output"
   ]
  }
 ],
 "metadata": {
  "kernelspec": {
   "display_name": "Python 3",
   "language": "python",
   "name": "python3"
  },
  "language_info": {
   "codemirror_mode": {
    "name": "ipython",
    "version": 3
   },
   "file_extension": ".py",
   "mimetype": "text/x-python",
   "name": "python",
   "nbconvert_exporter": "python",
   "pygments_lexer": "ipython3",
   "version": "3.8.8"
  },
  "vscode": {
   "interpreter": {
    "hash": "d26dd86194e83e3a0f0b7b53bc7876e65835825a2894f08a46ba2342766fb885"
   }
  }
 },
 "nbformat": 4,
 "nbformat_minor": 2
}
